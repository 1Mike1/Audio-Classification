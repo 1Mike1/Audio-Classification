{
 "cells": [
  {
   "cell_type": "code",
   "execution_count": 1,
   "id": "f5b267f4",
   "metadata": {},
   "outputs": [],
   "source": [
    "import os\n",
    "import librosa\n",
    "import numpy as np\n",
    "import torch\n",
    "import torch.nn as nn\n",
    "from torch.utils.data import Dataset, DataLoader\n",
    "from sklearn.model_selection import train_test_split\n",
    "from sklearn.preprocessing import LabelEncoder"
   ]
  },
  {
   "cell_type": "code",
   "execution_count": 2,
   "id": "4a20fc6c",
   "metadata": {},
   "outputs": [],
   "source": [
    "# Parameters\n",
    "SAMPLE_RATE = 16000\n",
    "N_MFCC = 40\n",
    "DURATION = 3  # seconds\n",
    "MAX_LEN = SAMPLE_RATE * DURATION"
   ]
  },
  {
   "cell_type": "code",
   "execution_count": 3,
   "id": "28b05e8c",
   "metadata": {},
   "outputs": [],
   "source": [
    "# 1. Dataset Class\n",
    "class VoiceDataset(Dataset):\n",
    "    def __init__(self, file_paths, labels):\n",
    "        self.file_paths = file_paths\n",
    "        self.labels = labels\n",
    "\n",
    "    def __len__(self):\n",
    "        return len(self.file_paths)\n",
    "\n",
    "    def __getitem__(self, idx):\n",
    "        file_path = self.file_paths[idx]\n",
    "        label = self.labels[idx]\n",
    "        \n",
    "        y, sr = librosa.load(file_path, sr=SAMPLE_RATE)\n",
    "        y = librosa.util.fix_length(y,  size=MAX_LEN)  # pad or truncate\n",
    "        mfcc = librosa.feature.mfcc(y=y, sr=sr, n_mfcc=N_MFCC)\n",
    "        mfcc = torch.tensor(mfcc, dtype=torch.float32)\n",
    "\n",
    "        return mfcc.unsqueeze(0), torch.tensor(label, dtype=torch.long)"
   ]
  },
  {
   "cell_type": "code",
   "execution_count": 4,
   "id": "19a31ad9",
   "metadata": {},
   "outputs": [],
   "source": [
    "# 2. Load File Paths\n",
    "def load_data(data_dir):\n",
    "    file_paths = []\n",
    "    labels = []\n",
    "    for label_name in os.listdir(data_dir):\n",
    "        label_path = os.path.join(data_dir, label_name)\n",
    "        for file_name in os.listdir(label_path):\n",
    "            if file_name.endswith(\".wav\"):\n",
    "                file_paths.append(os.path.join(label_path, file_name))\n",
    "                labels.append(label_name)\n",
    "    return file_paths, labels"
   ]
  },
  {
   "cell_type": "code",
   "execution_count": 5,
   "id": "f7237f6e",
   "metadata": {},
   "outputs": [],
   "source": [
    "# 3. Prepare Data\n",
    "file_paths, labels = load_data(\"data\")\n",
    "label_encoder = LabelEncoder()\n",
    "encoded_labels = label_encoder.fit_transform(labels)\n",
    "\n",
    "train_paths, test_paths, train_labels, test_labels = train_test_split(\n",
    "    file_paths, encoded_labels, test_size=0.2, random_state=42\n",
    ")\n",
    "\n",
    "train_dataset = VoiceDataset(train_paths, train_labels)\n",
    "test_dataset = VoiceDataset(test_paths, test_labels)\n",
    "\n",
    "train_loader = DataLoader(train_dataset, batch_size=16, shuffle=True)\n",
    "test_loader = DataLoader(test_dataset, batch_size=16)"
   ]
  },
  {
   "cell_type": "code",
   "execution_count": 6,
   "id": "b6878bc9",
   "metadata": {},
   "outputs": [],
   "source": [
    "# 4. Define Model\n",
    "class VoiceClassifier(nn.Module):\n",
    "    def __init__(self):\n",
    "        super().__init__()\n",
    "        self.conv1 = nn.Conv2d(1, 16, kernel_size=3, padding=1)\n",
    "        self.pool = nn.MaxPool2d(2)\n",
    "        self.conv2 = nn.Conv2d(16, 32, kernel_size=3, padding=1)\n",
    "        \n",
    "        # Placeholder to set later\n",
    "        self.flatten_dim = None\n",
    "        self.fc1 = None\n",
    "        self.fc2 = nn.Linear(64, 2)\n",
    "\n",
    "    def forward(self, x):\n",
    "        x = self.pool(torch.relu(self.conv1(x)))  # e.g. [B, 16, 20, 44]\n",
    "        x = self.pool(torch.relu(self.conv2(x)))  # e.g. [B, 32, 10, 22]\n",
    "\n",
    "        if self.fc1 is None:\n",
    "            self.flatten_dim = x.view(x.size(0), -1).size(1)\n",
    "            self.fc1 = nn.Linear(self.flatten_dim, 64).to(x.device)\n",
    "\n",
    "        x = x.view(x.size(0), -1)\n",
    "        x = torch.relu(self.fc1(x))\n",
    "        return self.fc2(x)\n"
   ]
  },
  {
   "cell_type": "code",
   "execution_count": 7,
   "id": "3c77b64b",
   "metadata": {},
   "outputs": [],
   "source": [
    "# 5. Training Loop\n",
    "def train(model, loader, criterion, optimizer, device):\n",
    "    model.train()\n",
    "    total_loss = 0\n",
    "    for inputs, targets in loader:\n",
    "        inputs, targets = inputs.to(device), targets.to(device)\n",
    "        optimizer.zero_grad()\n",
    "        outputs = model(inputs)\n",
    "        loss = criterion(outputs, targets)\n",
    "        loss.backward()\n",
    "        optimizer.step()\n",
    "        total_loss += loss.item()\n",
    "    return total_loss / len(loader)"
   ]
  },
  {
   "cell_type": "code",
   "execution_count": 8,
   "id": "643e4c4e",
   "metadata": {},
   "outputs": [],
   "source": [
    "# 6. Evaluation\n",
    "def evaluate(model, loader, device):\n",
    "    model.eval()\n",
    "    correct = 0\n",
    "    total = 0\n",
    "    with torch.no_grad():\n",
    "        for inputs, targets in loader:\n",
    "            inputs, targets = inputs.to(device), targets.to(device)\n",
    "            outputs = model(inputs)\n",
    "            _, predicted = torch.max(outputs, 1)\n",
    "            correct += (predicted == targets).sum().item()\n",
    "            total += targets.size(0)\n",
    "    return correct / total"
   ]
  },
  {
   "cell_type": "code",
   "execution_count": 9,
   "id": "2d8cbb74",
   "metadata": {},
   "outputs": [
    {
     "name": "stdout",
     "output_type": "stream",
     "text": [
      "Device: cpu\n",
      "Epoch 1, Loss: 0.4575, Test Acc: 0.9783\n",
      "Epoch 2, Loss: 0.0847, Test Acc: 1.0000\n",
      "Epoch 3, Loss: 0.0317, Test Acc: 1.0000\n",
      "Epoch 4, Loss: 0.0162, Test Acc: 1.0000\n",
      "Epoch 5, Loss: 0.0101, Test Acc: 1.0000\n",
      "Epoch 6, Loss: 0.0071, Test Acc: 1.0000\n",
      "Epoch 7, Loss: 0.0057, Test Acc: 1.0000\n",
      "Epoch 8, Loss: 0.0047, Test Acc: 1.0000\n",
      "Epoch 9, Loss: 0.0040, Test Acc: 1.0000\n",
      "Epoch 10, Loss: 0.0035, Test Acc: 1.0000\n"
     ]
    }
   ],
   "source": [
    "# 7. Run Training\n",
    "device = torch.device(\"cuda\" if torch.cuda.is_available() else \"cpu\")\n",
    "print('Device:', device)\n",
    "model = VoiceClassifier().to(device)\n",
    "criterion = nn.CrossEntropyLoss()\n",
    "optimizer = torch.optim.Adam(model.parameters(), lr=0.001)\n",
    "\n",
    "for epoch in range(10):\n",
    "    train_loss = train(model, train_loader, criterion, optimizer, device)\n",
    "    acc = evaluate(model, test_loader, device)\n",
    "    print(f\"Epoch {epoch+1}, Loss: {train_loss:.4f}, Test Acc: {acc:.4f}\")"
   ]
  },
  {
   "cell_type": "code",
   "execution_count": 10,
   "id": "7c48a4b2",
   "metadata": {},
   "outputs": [],
   "source": [
    "def predict_audio(file_path, model, label_encoder, device):\n",
    "    y, sr = librosa.load(file_path, sr=SAMPLE_RATE)\n",
    "    y = librosa.util.fix_length(y, size=MAX_LEN)\n",
    "    mfcc = librosa.feature.mfcc(y=y, sr=sr, n_mfcc=N_MFCC)\n",
    "    mfcc_tensor = torch.tensor(mfcc, dtype=torch.float32).unsqueeze(0).unsqueeze(0).to(device)\n",
    "\n",
    "    model.eval()\n",
    "    with torch.no_grad():\n",
    "        outputs = model(mfcc_tensor)\n",
    "        predicted_class = torch.argmax(outputs, dim=1).item()\n",
    "        class_label = label_encoder.inverse_transform([predicted_class])[0]\n",
    "        confidence = torch.softmax(outputs, dim=1)[0][predicted_class].item()\n",
    "\n",
    "    return class_label, confidence\n"
   ]
  },
  {
   "cell_type": "code",
   "execution_count": 13,
   "id": "d94b960d",
   "metadata": {},
   "outputs": [
    {
     "name": "stdout",
     "output_type": "stream",
     "text": [
      "Prediction: human (confidence: 1.00)\n"
     ]
    }
   ],
   "source": [
    "device = torch.device(\"cuda\" if torch.cuda.is_available() else \"cpu\")\n",
    "model.to(device)\n",
    "\n",
    "file_path = \"data/human/00f63fe8-8b98-4988-bbf4-a3c869e026ad.wav\"\n",
    "label, conf = predict_audio(file_path, model, label_encoder, device)\n",
    "print(f\"Prediction: {label} (confidence: {conf:.2f})\")\n"
   ]
  },
  {
   "cell_type": "code",
   "execution_count": 14,
   "id": "9d122dbc",
   "metadata": {},
   "outputs": [],
   "source": [
    "torch.save(model.state_dict, 'audo.pth')"
   ]
  },
  {
   "cell_type": "code",
   "execution_count": 19,
   "id": "1fa80596",
   "metadata": {},
   "outputs": [
    {
     "data": {
      "text/plain": [
       "<All keys matched successfully>"
      ]
     },
     "execution_count": 19,
     "metadata": {},
     "output_type": "execute_result"
    }
   ],
   "source": [
    "model = VoiceClassifier()\n",
    "model.load_state_dict(torch.load(\"voice_classifier.pth\"))"
   ]
  },
  {
   "cell_type": "code",
   "execution_count": 20,
   "id": "c2247c8b",
   "metadata": {},
   "outputs": [
    {
     "name": "stdout",
     "output_type": "stream",
     "text": [
      "Prediction: human (confidence: 0.96)\n"
     ]
    }
   ],
   "source": [
    "device = torch.device(\"cuda\" if torch.cuda.is_available() else \"cpu\")\n",
    "model.to(device)\n",
    "\n",
    "file_path = \"data/human/00f63fe8-8b98-4988-bbf4-a3c869e026ad.wav\"\n",
    "label, conf = predict_audio(file_path, model, label_encoder, device)\n",
    "print(f\"Prediction: {label} (confidence: {conf:.2f})\")"
   ]
  },
  {
   "cell_type": "code",
   "execution_count": 15,
   "id": "ae3f92dd",
   "metadata": {},
   "outputs": [
    {
     "name": "stdout",
     "output_type": "stream",
     "text": [
      " Assamese.tar\t\t   sample_voice_data\r\n",
      "'Audio Classifier.ipynb'  'Speech Dataset of Human and AI-Generated Voices'\r\n",
      " audo.pth\t\t  'Speech Dataset of Human and AI-Generated Voices.zip'\r\n",
      " data\t\t\t   voice_classifier.pth\r\n",
      " ivr-audio-prompts\r\n"
     ]
    }
   ],
   "source": [
    "!ls"
   ]
  },
  {
   "cell_type": "code",
   "execution_count": 17,
   "id": "de8982b6",
   "metadata": {},
   "outputs": [
    {
     "name": "stdout",
     "output_type": "stream",
     "text": [
      "total 1430708\r\n",
      "drwxr-xr-x 7 mithlesh.kumar2 domain users       4096 May  5 13:07  .\r\n",
      "drwxr-xr-x 5 mithlesh.kumar2 domain users       4096 May  5 10:14  ..\r\n",
      "-rw-r--r-- 1 mithlesh.kumar2 domain users          0 May  5 12:48  Assamese.tar\r\n",
      "-rw-r--r-- 1 mithlesh.kumar2 domain users       9096 May  5 12:58 'Audio Classifier.ipynb'\r\n",
      "-rw-r--r-- 1 mithlesh.kumar2 domain users    1909091 May  5 13:07  audo.pth\r\n",
      "drwxr-xr-x 4 mithlesh.kumar2 domain users       4096 May  5 11:01  data\r\n",
      "drwxr-xr-x 2 mithlesh.kumar2 domain users       4096 May  5 11:38  .ipynb_checkpoints\r\n",
      "drwxr-xr-x 3 mithlesh.kumar2 domain users       4096 May  5 12:52  ivr-audio-prompts\r\n",
      "drwxr-xr-x 5 mithlesh.kumar2 domain users       4096 May  5 12:36  sample_voice_data\r\n",
      "drwxr-xr-x 3 mithlesh.kumar2 domain users       4096 May  5 11:42 'Speech Dataset of Human and AI-Generated Voices'\r\n",
      "-rw-r--r-- 1 mithlesh.kumar2 domain users 1463059367 May  5 10:34 'Speech Dataset of Human and AI-Generated Voices.zip'\r\n",
      "-rw-r--r-- 1 mithlesh.kumar2 domain users      22849 May  5 11:15  voice_classifier.pth\r\n"
     ]
    }
   ],
   "source": [
    "!ls -la"
   ]
  },
  {
   "cell_type": "code",
   "execution_count": null,
   "id": "0763a13f",
   "metadata": {},
   "outputs": [],
   "source": []
  }
 ],
 "metadata": {
  "kernelspec": {
   "display_name": "Python 3 (ipykernel)",
   "language": "python",
   "name": "python3"
  },
  "language_info": {
   "codemirror_mode": {
    "name": "ipython",
    "version": 3
   },
   "file_extension": ".py",
   "mimetype": "text/x-python",
   "name": "python",
   "nbconvert_exporter": "python",
   "pygments_lexer": "ipython3",
   "version": "3.13.3"
  }
 },
 "nbformat": 4,
 "nbformat_minor": 5
}
