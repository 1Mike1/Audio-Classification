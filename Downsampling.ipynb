{
 "cells": [
  {
   "cell_type": "code",
   "execution_count": null,
   "id": "7ea80ebe",
   "metadata": {},
   "outputs": [],
   "source": [
    "import wave\n",
    "import numpy as np\n",
    "import scipy.signal as sps\n",
    "\n",
    "class DownSample():\n",
    "    def __init__(self):\n",
    "        self.in_rate = 16000.0 #44100.0\n",
    "        self.out_rate = 8000.0\n",
    "\n",
    "    def open_file(self, fname):\n",
    "        try:\n",
    "            self.in_wav = wave.open(fname)\n",
    "        except:\n",
    "            print(\"Cannot open wav file (%s)\" % fname)\n",
    "            return False\n",
    "\n",
    "        if self.in_wav.getframerate() != self.in_rate:\n",
    "            print(\"Frame rate is not %d (it's %d)\" % \\\n",
    "                  (self.in_rate, self.in_wav.getframerate()))\n",
    "            return False\n",
    "\n",
    "        self.in_nframes = self.in_wav.getnframes()\n",
    "        print(\"Frames: %d\" % self.in_wav.getnframes())\n",
    "\n",
    "        if self.in_wav.getsampwidth() == 1:\n",
    "            self.nptype = np.uint8\n",
    "        elif self.in_wav.getsampwidth() == 2:\n",
    "            self.nptype = np.uint16\n",
    "\n",
    "        return True\n",
    "\n",
    "    def resample(self, fname):\n",
    "        self.out_wav = wave.open(fname, \"w\")\n",
    "        self.out_wav.setframerate(self.out_rate)\n",
    "        self.out_wav.setnchannels(self.in_wav.getnchannels())\n",
    "        self.out_wav.setsampwidth (self.in_wav.getsampwidth())\n",
    "        self.out_wav.setnframes(1)\n",
    "\n",
    "        print(\"Nr output channels: %d\" % self.out_wav.getnchannels())\n",
    "\n",
    "        audio = self.in_wav.readframes(self.in_nframes)\n",
    "        nroutsamples = round(len(audio) * self.out_rate/self.in_rate)\n",
    "        print(\"Nr output samples: %d\" %  nroutsamples)\n",
    "\n",
    "        audio_out = sps.resample(np.fromstring(audio, self.nptype), nroutsamples)\n",
    "        audio_out = audio_out.astype(self.nptype)\n",
    "\n",
    "        self.out_wav.writeframes(audio_out.copy(order='C'))\n",
    "\n",
    "        self.out_wav.close()\n",
    "\n",
    "def main(input_data, output_data):\n",
    "    inwave = input_data #\"sine_44k.wav\"\n",
    "    outwave = output_data #\"sine_16k.wav\"\n",
    "    ds = DownSample()\n",
    "    if not ds.open_file(inwave):\n",
    "        return 1\n",
    "    ds.resample(outwave)\n",
    "    return 0\n",
    "\n",
    "if __name__ == '__main__':\n",
    "    data = [file for file in os.listdir('input') if '.wav' in file]\n",
    "#     print(len(data), data[0])\n",
    "    PATH = 'input'\n",
    "#     for _file in data:\n",
    "#         main(PATH+'/'+_file, f'output_{_file}')"
   ]
  },
  {
   "cell_type": "code",
   "execution_count": 1,
   "id": "086dff12",
   "metadata": {},
   "outputs": [],
   "source": [
    "# !rm -rf Data/Human/*_nohash_*.wav"
   ]
  },
  {
   "cell_type": "code",
   "execution_count": 18,
   "id": "a8bfc4d4",
   "metadata": {},
   "outputs": [],
   "source": [
    "import os\n",
    "import librosa\n",
    "import soundfile as sf"
   ]
  },
  {
   "cell_type": "code",
   "execution_count": 19,
   "id": "23e9e4db",
   "metadata": {},
   "outputs": [
    {
     "data": {
      "text/plain": [
       "551"
      ]
     },
     "execution_count": 19,
     "metadata": {},
     "output_type": "execute_result"
    }
   ],
   "source": [
    "data = [file for file in os.listdir('input')]\n",
    "len(data)"
   ]
  },
  {
   "cell_type": "code",
   "execution_count": 16,
   "id": "84478cf6",
   "metadata": {},
   "outputs": [],
   "source": [
    "def resampling(_in, _out):\n",
    "    filename = _in\n",
    "    newFilename = _out\n",
    "\n",
    "    y, sr = librosa.load(filename, sr=16000)\n",
    "    y_8 = librosa.resample(y,sr,8000)\n",
    "    sf.write(r'output/'+newFilename, y_8, 8000)\n",
    "#     librosa.output.write_wav(r'output/'+newFilename, y_8, 8000)"
   ]
  },
  {
   "cell_type": "code",
   "execution_count": 20,
   "id": "6f44af79",
   "metadata": {},
   "outputs": [],
   "source": [
    "for file in data:\n",
    "    resampling(f'input/{file}', f'output_{file}')"
   ]
  },
  {
   "cell_type": "code",
   "execution_count": null,
   "id": "6fa83105",
   "metadata": {},
   "outputs": [],
   "source": []
  }
 ],
 "metadata": {
  "kernelspec": {
   "display_name": "Python 3",
   "language": "python",
   "name": "python3"
  },
  "language_info": {
   "codemirror_mode": {
    "name": "ipython",
    "version": 3
   },
   "file_extension": ".py",
   "mimetype": "text/x-python",
   "name": "python",
   "nbconvert_exporter": "python",
   "pygments_lexer": "ipython3",
   "version": "3.8.5"
  }
 },
 "nbformat": 4,
 "nbformat_minor": 5
}
