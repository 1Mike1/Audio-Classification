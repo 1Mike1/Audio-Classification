{
 "cells": [
  {
   "cell_type": "code",
   "execution_count": 1,
   "id": "5983cf89",
   "metadata": {},
   "outputs": [],
   "source": [
    "import tensorflow as tf\n",
    "from tensorflow.keras import models\n",
    "import numpy as np\n",
    "import matplotlib.pyplot as plt\n",
    "from live_recording import Record"
   ]
  },
  {
   "cell_type": "code",
   "execution_count": 2,
   "id": "4cbba42e",
   "metadata": {},
   "outputs": [],
   "source": [
    "model = models.load_model('Model')\n",
    "# model.summary()"
   ]
  },
  {
   "cell_type": "code",
   "execution_count": 3,
   "id": "7a2ce5cc",
   "metadata": {},
   "outputs": [],
   "source": [
    "def get_spectrogram(waveform):\n",
    "    # Padding for files with less than 16000 samples\n",
    "    zero_padding = tf.zeros([8000] - tf.shape(waveform), dtype=tf.float32)\n",
    "    # Concatenate audio with padding so that all audio clips will be of the same length\n",
    "    waveform = tf.cast(waveform, tf.float32)\n",
    "    equal_length = tf.concat([waveform, zero_padding], 0)\n",
    "    spectrogram = tf.signal.stft(equal_length, frame_length=255, frame_step=64)\n",
    "    spectrogram = tf.abs(spectrogram)\n",
    "    return spectrogram"
   ]
  },
  {
   "cell_type": "markdown",
   "id": "2a749591",
   "metadata": {},
   "source": [
    "## Prediction on Raw data"
   ]
  },
  {
   "cell_type": "code",
   "execution_count": 21,
   "id": "a278868c",
   "metadata": {},
   "outputs": [],
   "source": [
    "def predict_live():\n",
    "    raw_data = b''\n",
    "    classes=['Human', 'Noise']\n",
    "    sample_file = Record('Sample').recording()[1]\n",
    "    for d in sample_file:\n",
    "        raw_data+=d\n",
    "    audio = tf.io.decode_raw(raw_data, tf.uint16)\n",
    "    print(type(audio))\n",
    "    print('decoded shape:', audio.shape)\n",
    "    _spectrogram = get_spectrogram(audio)\n",
    "    spectrogram = tf.expand_dims(_spectrogram, -1)\n",
    "    spectrogram = tf.expand_dims(spectrogram, 0)\n",
    "    # np.argmax(model.predict(spectrogram), axis=1)\n",
    "    print(spectrogram.shape)\n",
    "    pred = model(spectrogram)\n",
    "    cls = np.argmax(tf.nn.softmax(pred[0]))\n",
    "    print(cls)\n",
    "    output = 'Human' if cls==0 else 'Noise'\n",
    "    print(output)\n",
    "    if output=='Human':\n",
    "        plt.bar(classes, tf.nn.softmax(pred[0]))\n",
    "    else:\n",
    "        plt.bar(classes, tf.nn.softmax(pred[0]), color='r')\n",
    "        \n",
    "    plt.title(f'Predicted \"{output}\"')\n",
    "    plt.show()"
   ]
  },
  {
   "cell_type": "code",
   "execution_count": 36,
   "id": "97bcfe64",
   "metadata": {},
   "outputs": [
    {
     "name": "stdout",
     "output_type": "stream",
     "text": [
      "Recording\n",
      "Finished recording\n",
      "Sample_0107211625254214.wav\n",
      "<class 'tensorflow.python.framework.ops.EagerTensor'>\n",
      "decoded shape: (7168,)\n",
      "(1, 122, 129, 1)\n",
      "0\n",
      "Human\n"
     ]
    },
    {
     "data": {
      "image/png": "[encoded data removed]",
      "text/plain": [
       "<Figure size 432x288 with 1 Axes>"
      ]
     },
     "metadata": {
      "needs_background": "light"
     },
     "output_type": "display_data"
    }
   ],
   "source": [
    "predict_live()"
   ]
  },
  {
   "cell_type": "markdown",
   "id": "bca7e875",
   "metadata": {},
   "source": [
    "## Prediction on wav file"
   ]
  },
  {
   "cell_type": "code",
   "execution_count": null,
   "id": "453d38d6",
   "metadata": {},
   "outputs": [],
   "source": [
    "def predict_live():\n",
    "    classes=['Human', 'Noise']\n",
    "    sample_file = 'Sample_3006211625443149.wav' #Record('Sample').recording()[0]\n",
    "    audio_binary = tf.io.read_file(sample_file)\n",
    "    audio, _ = tf.audio.decode_wav(audio_binary)\n",
    "    _audio = tf.squeeze(audio, axis=-1)\n",
    "    _spectrogram = get_spectrogram(_audio)\n",
    "    spectrogram = tf.expand_dims(_spectrogram, -1)\n",
    "    spectrogram = tf.expand_dims(spectrogram, 0)\n",
    "    # np.argmax(model.predict(spectrogram), axis=1)\n",
    "    print(spectrogram.shape)\n",
    "    pred = model(spectrogram)\n",
    "    cls = np.argmax(tf.nn.softmax(pred[0]))\n",
    "    output = 'Human' if cls==0 else 'Noise'\n",
    "    print(output)\n",
    "    if output=='Human':\n",
    "        plt.bar(classes, tf.nn.softmax(pred[0]))\n",
    "    else:\n",
    "        plt.bar(classes, tf.nn.softmax(pred[0]), color='r')\n",
    "       \n",
    "    plt.title(f'Predicted \"{output}\"')\n",
    "    plt.show()"
   ]
  },
  {
   "cell_type": "code",
   "execution_count": null,
   "id": "82423c74",
   "metadata": {},
   "outputs": [],
   "source": [
    "predict_live()"
   ]
  },
  {
   "cell_type": "code",
   "execution_count": null,
   "id": "75bb4fb4",
   "metadata": {},
   "outputs": [],
   "source": [
    "def preprocess_dataset(files):\n",
    "    files_ds = tf.data.Dataset.from_tensor_slices(files)\n",
    "    output_ds = files_ds.map(get_waveform_and_label, num_parallel_calls=AUTOTUNE)\n",
    "    output_ds = output_ds.map(get_spectrogram_and_label_id,  num_parallel_calls=AUTOTUNE)\n",
    "    return output_ds"
   ]
  },
  {
   "cell_type": "code",
   "execution_count": null,
   "id": "1d3001d3",
   "metadata": {},
   "outputs": [],
   "source": [
    "sample_file = 'Sample_2906211625376042.wav'\n",
    "\n",
    "sample_ds = preprocess_dataset([str(sample_file)])\n",
    "\n",
    "for spectrogram, label in sample_ds.batch(1):\n",
    "  prediction = model(spectrogram)\n",
    "  plt.bar(commands, tf.nn.softmax(prediction[0]))\n",
    "  plt.title(f'Predictions for \"{commands[label[0]]}\"')\n",
    "  plt.show()"
   ]
  }
 ],
 "metadata": {
  "kernelspec": {
   "display_name": "Python 3",
   "language": "python",
   "name": "python3"
  },
  "language_info": {
   "codemirror_mode": {
    "name": "ipython",
    "version": 3
   },
   "file_extension": ".py",
   "mimetype": "text/x-python",
   "name": "python",
   "nbconvert_exporter": "python",
   "pygments_lexer": "ipython3",
   "version": "3.8.5"
  }
 },
 "nbformat": 4,
 "nbformat_minor": 5
}
