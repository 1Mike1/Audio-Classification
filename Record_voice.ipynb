{
 "cells": [
  {
   "cell_type": "code",
   "execution_count": 1,
   "id": "11a3b1af",
   "metadata": {},
   "outputs": [],
   "source": [
    "from datetime import datetime\n",
    "import time\n",
    "import pyaudio\n",
    "import wave\n",
    "\n",
    "class Record:\n",
    "    \n",
    "    def __init__(self, label):\n",
    "        self.chunk = 1024\n",
    "        self.sample_format = pyaudio.paInt16\n",
    "        self.channels = 1\n",
    "        self.fs = 8000\n",
    "        self.seconds = 1\n",
    "        self.label = label\n",
    "    \n",
    "    def recording(self):\n",
    "        frames = list()\n",
    "        filename = f\"{self.label}_{Record.random_id()}.wav\"\n",
    "        p = pyaudio.PyAudio()\n",
    "        print('Recording')\n",
    "        stream = p.open(format=self.sample_format,channels=self.channels,rate=self.fs,frames_per_buffer=self.chunk,input=True)\n",
    "        for i in range(0, int(self.fs / self.chunk * self.seconds)):\n",
    "            data = stream.read(self.chunk)\n",
    "            frames.append(data)\n",
    "    \n",
    "        stream.stop_stream()\n",
    "        stream.close()\n",
    "        p.terminate()\n",
    "        print('Finished recording')\n",
    "\n",
    "        # Save the recorded data as a WAV file\n",
    "        wf = wave.open(filename, 'wb')\n",
    "        wf.setnchannels(self.channels)\n",
    "        wf.setsampwidth(p.get_sample_size(self.sample_format))\n",
    "        wf.setframerate(self.fs)\n",
    "        wf.writeframes(b''.join(frames))\n",
    "        wf.close()\n",
    "      \n",
    "    @staticmethod\n",
    "    def random_id():\n",
    "        dt = datetime.utcnow()\n",
    "        stamp = time.mktime(dt.timetuple()) + dt.microsecond / 1e0\n",
    "        today = time.strftime(\"%d%m%y\")\n",
    "        stamp_id = str(today) + str(stamp).split(\".\")[0]\n",
    "        return stamp_id"
   ]
  },
  {
   "cell_type": "code",
   "execution_count": 76,
   "id": "12045782",
   "metadata": {},
   "outputs": [],
   "source": [
    "rec = Record('noise')"
   ]
  },
  {
   "cell_type": "code",
   "execution_count": 77,
   "id": "cddaf9b4",
   "metadata": {},
   "outputs": [],
   "source": [
    "# rec.recording()"
   ]
  },
  {
   "cell_type": "code",
   "execution_count": 83,
   "id": "9b17638c",
   "metadata": {},
   "outputs": [
    {
     "name": "stdout",
     "output_type": "stream",
     "text": [
      "Recording\n",
      "Finished recording\n",
      "Recording\n",
      "Finished recording\n",
      "Recording\n",
      "Finished recording\n",
      "Recording\n",
      "Finished recording\n",
      "Recording\n",
      "Finished recording\n",
      "Recording\n",
      "Finished recording\n",
      "Recording\n",
      "Finished recording\n",
      "Recording\n",
      "Finished recording\n",
      "Recording\n",
      "Finished recording\n",
      "Recording\n",
      "Finished recording\n",
      "Recording\n",
      "Finished recording\n",
      "Recording\n",
      "Finished recording\n",
      "Recording\n",
      "Finished recording\n",
      "Recording\n",
      "Finished recording\n",
      "Recording\n",
      "Finished recording\n",
      "Recording\n",
      "Finished recording\n",
      "Recording\n",
      "Finished recording\n",
      "Recording\n",
      "Finished recording\n",
      "Recording\n",
      "Finished recording\n",
      "Recording\n",
      "Finished recording\n",
      "Recording\n",
      "Finished recording\n",
      "Recording\n",
      "Finished recording\n",
      "Recording\n",
      "Finished recording\n",
      "Recording\n",
      "Finished recording\n",
      "Recording\n",
      "Finished recording\n",
      "Recording\n",
      "Finished recording\n",
      "Recording\n",
      "Finished recording\n",
      "Recording\n",
      "Finished recording\n",
      "Recording\n",
      "Finished recording\n",
      "Recording\n",
      "Finished recording\n",
      "Recording\n",
      "Finished recording\n",
      "Recording\n",
      "Finished recording\n",
      "Recording\n",
      "Finished recording\n",
      "Recording\n",
      "Finished recording\n",
      "Recording\n",
      "Finished recording\n",
      "Recording\n",
      "Finished recording\n",
      "Recording\n",
      "Finished recording\n",
      "Recording\n",
      "Finished recording\n",
      "Recording\n",
      "Finished recording\n",
      "Recording\n",
      "Finished recording\n",
      "Recording\n",
      "Finished recording\n",
      "Recording\n",
      "Finished recording\n",
      "Recording\n"
     ]
    },
    {
     "ename": "KeyboardInterrupt",
     "evalue": "",
     "output_type": "error",
     "traceback": [
      "\u001b[0;31m---------------------------------------------------------------------------\u001b[0m",
      "\u001b[0;31mKeyboardInterrupt\u001b[0m                         Traceback (most recent call last)",
      "\u001b[0;32m<ipython-input-83-4a2c20923a03>\u001b[0m in \u001b[0;36m<module>\u001b[0;34m\u001b[0m\n\u001b[1;32m      2\u001b[0m \u001b[0mcnt\u001b[0m \u001b[0;34m=\u001b[0m \u001b[0;36m0\u001b[0m\u001b[0;34m\u001b[0m\u001b[0;34m\u001b[0m\u001b[0m\n\u001b[1;32m      3\u001b[0m \u001b[0;32mfor\u001b[0m \u001b[0mi\u001b[0m \u001b[0;32min\u001b[0m \u001b[0mrange\u001b[0m\u001b[0;34m(\u001b[0m\u001b[0;36m1\u001b[0m\u001b[0;34m,\u001b[0m\u001b[0;36m50\u001b[0m\u001b[0;34m)\u001b[0m\u001b[0;34m:\u001b[0m\u001b[0;34m\u001b[0m\u001b[0;34m\u001b[0m\u001b[0m\n\u001b[0;32m----> 4\u001b[0;31m     \u001b[0mrec\u001b[0m\u001b[0;34m.\u001b[0m\u001b[0mrecording\u001b[0m\u001b[0;34m(\u001b[0m\u001b[0;34m)\u001b[0m\u001b[0;34m\u001b[0m\u001b[0;34m\u001b[0m\u001b[0m\n\u001b[0m\u001b[1;32m      5\u001b[0m     \u001b[0mtime\u001b[0m\u001b[0;34m.\u001b[0m\u001b[0msleep\u001b[0m\u001b[0;34m(\u001b[0m\u001b[0;36m0.2\u001b[0m\u001b[0;34m)\u001b[0m\u001b[0;34m\u001b[0m\u001b[0;34m\u001b[0m\u001b[0m\n\u001b[1;32m      6\u001b[0m     \u001b[0;32mif\u001b[0m \u001b[0;36m1000\u001b[0m\u001b[0;34m%\u001b[0m\u001b[0;36m100\u001b[0m\u001b[0;34m:\u001b[0m\u001b[0;34m\u001b[0m\u001b[0;34m\u001b[0m\u001b[0m\n",
      "\u001b[0;32m<ipython-input-1-8660c9c5794b>\u001b[0m in \u001b[0;36mrecording\u001b[0;34m(self)\u001b[0m\n\u001b[1;32m     21\u001b[0m         \u001b[0mstream\u001b[0m \u001b[0;34m=\u001b[0m \u001b[0mp\u001b[0m\u001b[0;34m.\u001b[0m\u001b[0mopen\u001b[0m\u001b[0;34m(\u001b[0m\u001b[0mformat\u001b[0m\u001b[0;34m=\u001b[0m\u001b[0mself\u001b[0m\u001b[0;34m.\u001b[0m\u001b[0msample_format\u001b[0m\u001b[0;34m,\u001b[0m\u001b[0mchannels\u001b[0m\u001b[0;34m=\u001b[0m\u001b[0mself\u001b[0m\u001b[0;34m.\u001b[0m\u001b[0mchannels\u001b[0m\u001b[0;34m,\u001b[0m\u001b[0mrate\u001b[0m\u001b[0;34m=\u001b[0m\u001b[0mself\u001b[0m\u001b[0;34m.\u001b[0m\u001b[0mfs\u001b[0m\u001b[0;34m,\u001b[0m\u001b[0mframes_per_buffer\u001b[0m\u001b[0;34m=\u001b[0m\u001b[0mself\u001b[0m\u001b[0;34m.\u001b[0m\u001b[0mchunk\u001b[0m\u001b[0;34m,\u001b[0m\u001b[0minput\u001b[0m\u001b[0;34m=\u001b[0m\u001b[0;32mTrue\u001b[0m\u001b[0;34m)\u001b[0m\u001b[0;34m\u001b[0m\u001b[0;34m\u001b[0m\u001b[0m\n\u001b[1;32m     22\u001b[0m         \u001b[0;32mfor\u001b[0m \u001b[0mi\u001b[0m \u001b[0;32min\u001b[0m \u001b[0mrange\u001b[0m\u001b[0;34m(\u001b[0m\u001b[0;36m0\u001b[0m\u001b[0;34m,\u001b[0m \u001b[0mint\u001b[0m\u001b[0;34m(\u001b[0m\u001b[0mself\u001b[0m\u001b[0;34m.\u001b[0m\u001b[0mfs\u001b[0m \u001b[0;34m/\u001b[0m \u001b[0mself\u001b[0m\u001b[0;34m.\u001b[0m\u001b[0mchunk\u001b[0m \u001b[0;34m*\u001b[0m \u001b[0mself\u001b[0m\u001b[0;34m.\u001b[0m\u001b[0mseconds\u001b[0m\u001b[0;34m)\u001b[0m\u001b[0;34m)\u001b[0m\u001b[0;34m:\u001b[0m\u001b[0;34m\u001b[0m\u001b[0;34m\u001b[0m\u001b[0m\n\u001b[0;32m---> 23\u001b[0;31m             \u001b[0mdata\u001b[0m \u001b[0;34m=\u001b[0m \u001b[0mstream\u001b[0m\u001b[0;34m.\u001b[0m\u001b[0mread\u001b[0m\u001b[0;34m(\u001b[0m\u001b[0mself\u001b[0m\u001b[0;34m.\u001b[0m\u001b[0mchunk\u001b[0m\u001b[0;34m)\u001b[0m\u001b[0;34m\u001b[0m\u001b[0;34m\u001b[0m\u001b[0m\n\u001b[0m\u001b[1;32m     24\u001b[0m             \u001b[0mframes\u001b[0m\u001b[0;34m.\u001b[0m\u001b[0mappend\u001b[0m\u001b[0;34m(\u001b[0m\u001b[0mdata\u001b[0m\u001b[0;34m)\u001b[0m\u001b[0;34m\u001b[0m\u001b[0;34m\u001b[0m\u001b[0m\n\u001b[1;32m     25\u001b[0m \u001b[0;34m\u001b[0m\u001b[0m\n",
      "\u001b[0;32m~/.local/lib/python3.8/site-packages/pyaudio.py\u001b[0m in \u001b[0;36mread\u001b[0;34m(self, num_frames, exception_on_overflow)\u001b[0m\n\u001b[1;32m    606\u001b[0m                           paCanNotReadFromAnOutputOnlyStream)\n\u001b[1;32m    607\u001b[0m \u001b[0;34m\u001b[0m\u001b[0m\n\u001b[0;32m--> 608\u001b[0;31m         \u001b[0;32mreturn\u001b[0m \u001b[0mpa\u001b[0m\u001b[0;34m.\u001b[0m\u001b[0mread_stream\u001b[0m\u001b[0;34m(\u001b[0m\u001b[0mself\u001b[0m\u001b[0;34m.\u001b[0m\u001b[0m_stream\u001b[0m\u001b[0;34m,\u001b[0m \u001b[0mnum_frames\u001b[0m\u001b[0;34m,\u001b[0m \u001b[0mexception_on_overflow\u001b[0m\u001b[0;34m)\u001b[0m\u001b[0;34m\u001b[0m\u001b[0;34m\u001b[0m\u001b[0m\n\u001b[0m\u001b[1;32m    609\u001b[0m \u001b[0;34m\u001b[0m\u001b[0m\n\u001b[1;32m    610\u001b[0m     \u001b[0;32mdef\u001b[0m \u001b[0mget_read_available\u001b[0m\u001b[0;34m(\u001b[0m\u001b[0mself\u001b[0m\u001b[0;34m)\u001b[0m\u001b[0;34m:\u001b[0m\u001b[0;34m\u001b[0m\u001b[0;34m\u001b[0m\u001b[0m\n",
      "\u001b[0;31mKeyboardInterrupt\u001b[0m: "
     ]
    }
   ],
   "source": [
    "import time\n",
    "cnt = 0\n",
    "for i in range(1,50):\n",
    "    rec.recording()\n",
    "    time.sleep(0.2)\n",
    "    if 1000%100:\n",
    "        print(cnt)\n",
    "    cnt+=1"
   ]
  },
  {
   "cell_type": "markdown",
   "id": "27e19cec",
   "metadata": {},
   "source": [
    "## Data augmentation"
   ]
  },
  {
   "cell_type": "code",
   "execution_count": null,
   "id": "54e2c4dd",
   "metadata": {},
   "outputs": [],
   "source": [
    "import numpy as np # linear algebra\n",
    "import pandas as pd # data processing, CSV file I/O (e.g. pd.read_csv)\n",
    "import librosa\n",
    "import matplotlib.pyplot as plt\n",
    "import os\n",
    "import cv2\n",
    "import IPython.display as ipd\n",
    "from scipy.io.wavfile import write\n",
    "from datetime import datetime\n",
    "import time\n",
    "EPS = 1e-8"
   ]
  },
  {
   "cell_type": "code",
   "execution_count": null,
   "id": "aea6a88c",
   "metadata": {},
   "outputs": [],
   "source": [
    "def random_id():\n",
    "    dt = datetime.utcnow()\n",
    "    stamp = time.mktime(dt.timetuple()) + dt.microsecond / 1e0\n",
    "    today = time.strftime(\"%d%m%y\")\n",
    "    stamp_id = str(today) + str(stamp).split(\".\")[0]\n",
    "    return stamp_id"
   ]
  },
  {
   "cell_type": "code",
   "execution_count": null,
   "id": "47015516",
   "metadata": {},
   "outputs": [],
   "source": [
    "def data_augmentation(data, tag):\n",
    "    cnt, _tag = 0, tag\n",
    "    for file in data:\n",
    "#         print(file)\n",
    "        if cnt%100==0:\n",
    "            print(cnt)\n",
    "        cnt+=1\n",
    "        wav, sr = librosa.load(file, sr=None)\n",
    "        new_tag = None\n",
    "        new_tag = f\"{_tag}_time_shift\"\n",
    "        wav_time_shift = slice_timing(wav)\n",
    "        save_audio(wav_time_shift, new_tag)\n",
    "        time.sleep(0.5)\n",
    "        new_tag = f\"{_tag}_time_shift_speed_tune\"\n",
    "        wav_speed_tune = speed_tuning(wav_time_shift)\n",
    "        save_audio(wav_speed_tune, new_tag)\n",
    "        time.sleep(0.5)\n",
    "        new_tag = f\"{_tag}_actual_speed_tune\"\n",
    "        wav_speed_tune_actual = speed_tuning(wav)\n",
    "        save_audio(wav_speed_tune_actual, new_tag)\n",
    "#         print(wav.shape, wav.max(), wav.min())\n",
    "#         ipd.Audio(wav, rate=sr)"
   ]
  },
  {
   "cell_type": "code",
   "execution_count": null,
   "id": "86f0bdd2",
   "metadata": {},
   "outputs": [],
   "source": [
    "def get_spectrogram(wav):\n",
    "    D = librosa.stft(wav, n_fft=480, hop_length=160,win_length=480, window='hamming')\n",
    "    spect, phase = librosa.magphase(D)\n",
    "    return spect"
   ]
  },
  {
   "cell_type": "code",
   "execution_count": null,
   "id": "bf81dfc6",
   "metadata": {},
   "outputs": [],
   "source": [
    "def slice_timing(wav):\n",
    "    start_ = int(np.random.uniform(-10,4800))\n",
    "#     print('time shift: ',start_)\n",
    "    if start_ >= 0:\n",
    "        wav_time_shift = np.r_[wav[start_:], np.random.uniform(-0.001,0.001, start_)]\n",
    "    else:\n",
    "        wav_time_shift = np.r_[np.random.uniform(-0.001,0.001, -start_), wav[:start_]]\n",
    "    #     write(\"example.wav\", samplerate, data.astype(np.int16))\n",
    "#     print(type(wav_time_shift))\n",
    "    return wav_time_shift\n",
    "    #     return wav_time_shift\n",
    "#     ipd.Audio(wav_time_shift, rate=sr)"
   ]
  },
  {
   "cell_type": "code",
   "execution_count": null,
   "id": "3f747eb6",
   "metadata": {},
   "outputs": [],
   "source": [
    "def speed_tuning(wav):\n",
    "    speed_rate = np.random.uniform(0.7,1.3)\n",
    "    wav_speed_tune = cv2.resize(wav, (1, int(len(wav) * speed_rate))).squeeze()\n",
    "#     print('speed rate: %.3f' % speed_rate, '(lower is faster)')\n",
    "    if len(wav_speed_tune) < 16000:\n",
    "        pad_len = 16000 - len(wav_speed_tune)\n",
    "        wav_speed_tune = np.r_[np.random.uniform(-0.001,0.001,int(pad_len/2)),\n",
    "                               wav_speed_tune,\n",
    "                               np.random.uniform(-0.001,0.001,int(np.ceil(pad_len/2)))]\n",
    "    else: \n",
    "        cut_len = len(wav_speed_tune) - 8000\n",
    "        wav_speed_tune = wav_speed_tune[int(cut_len/2):int(cut_len/2)+8000]\n",
    "\n",
    "    return wav_speed_tune\n",
    "#     write(\"example.wav\", samplerate, data.astype(np.int16))\n",
    "#     print('wav length: ', wav_speed_tune.shape[0])\n",
    "# ipd.Audio(wav_speed_tune, rate=sr)"
   ]
  },
  {
   "cell_type": "code",
   "execution_count": null,
   "id": "15646dd2",
   "metadata": {},
   "outputs": [],
   "source": [
    "def save_audio(data, tag):\n",
    "    samplerate = 8000\n",
    "    write(f\"augmented_{tag}_{random_id()}.wav\", samplerate, data)"
   ]
  },
  {
   "cell_type": "code",
   "execution_count": null,
   "id": "367713e0",
   "metadata": {},
   "outputs": [],
   "source": [
    "#  samplerate = 8000; fs = 100\n",
    "# t = np.linspace(0., 1., samplerate)\n",
    "# amplitude = np.iinfo(np.int16).max\n",
    "# data = amplitude * np.sin(2. * np.pi * fs * t)\n",
    "# write(\"example.wav\", samplerate, data.astype(np.int16))"
   ]
  },
  {
   "cell_type": "code",
   "execution_count": null,
   "id": "cb281ff7",
   "metadata": {},
   "outputs": [],
   "source": [
    "path = 'Data/Noise'"
   ]
  },
  {
   "cell_type": "code",
   "execution_count": null,
   "id": "dc99721f",
   "metadata": {},
   "outputs": [],
   "source": [
    "data=[]"
   ]
  },
  {
   "cell_type": "code",
   "execution_count": null,
   "id": "53e2b1b8",
   "metadata": {},
   "outputs": [],
   "source": [
    "data = [f'{path}/{filename}' for filename in os.listdir(path) if '.wav' in filename]\n",
    "len(data), data[80]"
   ]
  },
  {
   "cell_type": "code",
   "execution_count": null,
   "id": "30d12d3d",
   "metadata": {},
   "outputs": [],
   "source": [
    "# file_path = 'Data/Human/human_1.wav'\n",
    "# wav, sr = librosa.load(file_path, sr=None)\n",
    "# write(\"example.wav\", sr, wav)\n",
    "# print(sr)\n",
    "# ipd.Audio(wav, rate=sr)"
   ]
  },
  {
   "cell_type": "code",
   "execution_count": null,
   "id": "d7397878",
   "metadata": {},
   "outputs": [],
   "source": [
    "data_augmentation(data, 'noise')"
   ]
  },
  {
   "cell_type": "code",
   "execution_count": null,
   "id": "7be51960",
   "metadata": {},
   "outputs": [],
   "source": [
    "640*3"
   ]
  },
  {
   "cell_type": "code",
   "execution_count": null,
   "id": "2c07d5bd",
   "metadata": {},
   "outputs": [],
   "source": [
    "!mv augmented_noise*.wav Data/Noise/"
   ]
  },
  {
   "cell_type": "code",
   "execution_count": null,
   "id": "83bfa592",
   "metadata": {},
   "outputs": [],
   "source": [
    "!rm -rf Data/Noise/augmented_noise_time_shift_*.wav"
   ]
  },
  {
   "cell_type": "code",
   "execution_count": null,
   "id": "f46335be",
   "metadata": {},
   "outputs": [],
   "source": [
    "# !rm -rf augmented*.wav"
   ]
  }
 ],
 "metadata": {
  "kernelspec": {
   "display_name": "Python 3",
   "language": "python",
   "name": "python3"
  },
  "language_info": {
   "codemirror_mode": {
    "name": "ipython",
    "version": 3
   },
   "file_extension": ".py",
   "mimetype": "text/x-python",
   "name": "python",
   "nbconvert_exporter": "python",
   "pygments_lexer": "ipython3",
   "version": "3.8.5"
  }
 },
 "nbformat": 4,
 "nbformat_minor": 5
}
